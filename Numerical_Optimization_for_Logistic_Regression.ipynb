{
 "cells": [
  {
   "cell_type": "markdown",
   "metadata": {},
   "source": [
    "# Programming: Numerical Optimization for Logistic Regression.\n",
    "\n",
    "### Name: Syed Aziz\n"
   ]
  },
  {
   "cell_type": "markdown",
   "metadata": {},
   "source": [
    "## 0. Do the following:\n",
    "\n",
    "1. Read the lecture note: [click here](https://github.com/wangshusen/DeepLearning/blob/master/LectureNotes/Logistic/paper/logistic.pdf)\n",
    "\n",
    "2. Read, complete, and run this code.\n",
    "\n",
    "3. **Implement mini-batch SGD** and evaluate the performance.\n",
    "\n",
    "4. Convert the .IPYNB file to .HTML file.\n",
    "\n",
    "    * The HTML file must contain **the code** and **the output after execution**.\n",
    "    \n",
    "    * Missing **the output after execution** will not be graded.\n",
    "    \n",
    "    \n",
    "5. Upload this .HTML file to your Google Drive, Dropbox, or your Github repo.  (If you submit the file to Google Drive or Dropbox, you must make the file \"open-access\". The delay caused by \"deny of access\" may result in late penalty.)\n",
    "\n",
    "6. On Canvas, submit the Google Drive/Dropbox/Github link to the HTML file.\n",
    "\n",
    "\n",
    "## Grading criteria:\n",
    "\n",
    "1. When computing the ```gradient``` and ```objective function value``` using a batch of samples, use **matrix-vector multiplication** rather than a FOR LOOP of **vector-vector multiplications**.\n",
    "\n",
    "2. Plot ```objective function value``` against ```epochs```. In the plot, compare GD, SGD, and MB-SGD (with $b=8$ and $b=64$). The plot must look reasonable."
   ]
  },
  {
   "cell_type": "code",
   "execution_count": null,
   "metadata": {},
   "outputs": [],
   "source": []
  },
  {
   "cell_type": "markdown",
   "metadata": {},
   "source": [
    "# 1. Data processing\n",
    "\n",
    "- Download the Diabete dataset from https://www.csie.ntu.edu.tw/~cjlin/libsvmtools/datasets/binary/diabetes\n",
    "- Load the data using sklearn.\n",
    "- Preprocess the data."
   ]
  },
  {
   "cell_type": "markdown",
   "metadata": {},
   "source": [
    "## 1.1. Load the data"
   ]
  },
  {
   "cell_type": "code",
   "execution_count": 1,
   "metadata": {},
   "outputs": [
    {
     "name": "stdout",
     "output_type": "stream",
     "text": [
      "Shape of x: (768, 8)\n",
      "Shape of y: (768,)\n"
     ]
    }
   ],
   "source": [
    "from sklearn import datasets\n",
    "import numpy\n",
    "\n",
    "file_path = r'D:\\Stevens Class Files\\Current Semester\\CS_583_Deep_Learning\\ProgrammingAssignment\\M3 F1 Assignment implement Logistic Regression Due Mar 12\\diabetes'\n",
    "x_sparse, y = datasets.load_svmlight_file(file_path)\n",
    "\n",
    "x = x_sparse.todense()\n",
    "\n",
    "print('Shape of x: ' + str(x.shape))\n",
    "print('Shape of y: ' + str(y.shape))"
   ]
  },
  {
   "cell_type": "markdown",
   "metadata": {},
   "source": [
    "## 1.2. Partition to training and test sets"
   ]
  },
  {
   "cell_type": "code",
   "execution_count": 2,
   "metadata": {},
   "outputs": [
    {
     "name": "stdout",
     "output_type": "stream",
     "text": [
      "Shape of x_train: (640, 8)\n",
      "Shape of x_test: (128, 8)\n",
      "Shape of y_train: (640, 1)\n",
      "Shape of y_test: (128, 1)\n"
     ]
    }
   ],
   "source": [
    "# partition the data to training and test sets\n",
    "n = x.shape[0]\n",
    "n_train = 640\n",
    "n_test = n - n_train\n",
    "\n",
    "rand_indices = numpy.random.permutation(n)\n",
    "train_indices = rand_indices[0:n_train]\n",
    "test_indices = rand_indices[n_train:n]\n",
    "\n",
    "x_train = x[train_indices, :]\n",
    "x_test = x[test_indices, :]\n",
    "y_train = y[train_indices].reshape(n_train, 1)\n",
    "y_test = y[test_indices].reshape(n_test, 1)\n",
    "\n",
    "print('Shape of x_train: ' + str(x_train.shape))\n",
    "print('Shape of x_test: ' + str(x_test.shape))\n",
    "print('Shape of y_train: ' + str(y_train.shape))\n",
    "print('Shape of y_test: ' + str(y_test.shape))"
   ]
  },
  {
   "cell_type": "markdown",
   "metadata": {},
   "source": [
    "## 1.3. Feature scaling"
   ]
  },
  {
   "cell_type": "markdown",
   "metadata": {},
   "source": [
    "Use the standardization to trainsform both training and test features"
   ]
  },
  {
   "cell_type": "code",
   "execution_count": 3,
   "metadata": {},
   "outputs": [
    {
     "name": "stdout",
     "output_type": "stream",
     "text": [
      "test mean = \n",
      "[[-0.03680081  0.04248677  0.05312717 -0.01551814  0.09127271 -0.0435057\n",
      "   0.01698914  0.00013427]]\n",
      "test std = \n",
      "[[1.02279521 1.13220209 0.94975102 0.93544651 1.04739    1.00142043\n",
      "  0.93064312 1.05798164]]\n"
     ]
    }
   ],
   "source": [
    "# Standardization\n",
    "import numpy\n",
    "\n",
    "# calculate mu and sig using the training set\n",
    "d = x_train.shape[1]\n",
    "mu = numpy.mean(x_train, axis=0).reshape(1, d)\n",
    "sig = numpy.std(x_train, axis=0).reshape(1, d)\n",
    "\n",
    "# transform the training features\n",
    "x_train = (x_train - mu) / (sig + 1E-6)\n",
    "\n",
    "# transform the test features\n",
    "x_test = (x_test - mu) / (sig + 1E-6)\n",
    "\n",
    "print('test mean = ')\n",
    "print(numpy.mean(x_test, axis=0))\n",
    "\n",
    "print('test std = ')\n",
    "print(numpy.std(x_test, axis=0))"
   ]
  },
  {
   "cell_type": "markdown",
   "metadata": {},
   "source": [
    "## 1.4. Add a dimension of all ones"
   ]
  },
  {
   "cell_type": "code",
   "execution_count": 4,
   "metadata": {},
   "outputs": [
    {
     "name": "stdout",
     "output_type": "stream",
     "text": [
      "Shape of x_train: (640, 9)\n",
      "Shape of x_test: (128, 9)\n"
     ]
    }
   ],
   "source": [
    "n_train, d = x_train.shape\n",
    "x_train = numpy.concatenate((x_train, numpy.ones((n_train, 1))), axis=1)\n",
    "\n",
    "n_test, d = x_test.shape\n",
    "x_test = numpy.concatenate((x_test, numpy.ones((n_test, 1))), axis=1)\n",
    "\n",
    "print('Shape of x_train: ' + str(x_train.shape))\n",
    "print('Shape of x_test: ' + str(x_test.shape))"
   ]
  },
  {
   "cell_type": "markdown",
   "metadata": {},
   "source": [
    "# 2. Logistic regression model\n",
    "\n",
    "The objective function is $Q (w; X, y) = \\frac{1}{n} \\sum_{i=1}^n \\log \\Big( 1 + \\exp \\big( - y_i x_i^T w \\big) \\Big) + \\frac{\\lambda}{2} \\| w \\|_2^2 $."
   ]
  },
  {
   "cell_type": "code",
   "execution_count": 5,
   "metadata": {},
   "outputs": [],
   "source": [
    "# Calculate the objective function value\n",
    "# Inputs:\n",
    "#     w: d-by-1 matrix\n",
    "#     x: n-by-d matrix\n",
    "#     y: n-by-1 matrix\n",
    "#     lam: scalar, the regularization parameter\n",
    "# Return:\n",
    "#     objective function value (scalar)\n",
    "def objective(w, x, y, lam):\n",
    "    n, d = x.shape\n",
    "    yx = numpy.multiply(y, x) # n-by-d matrix\n",
    "    yxw = numpy.dot(yx, w) # n-by-1 matrix\n",
    "    vec1 = numpy.exp(-yxw) # n-by-1 matrix\n",
    "    vec2 = numpy.log(1 + vec1) # n-by-1 matrix\n",
    "    loss = numpy.mean(vec2) # scalar\n",
    "    reg = lam / 2 * numpy.sum(w * w) # scalar\n",
    "    return loss + reg\n",
    "    "
   ]
  },
  {
   "cell_type": "code",
   "execution_count": 6,
   "metadata": {},
   "outputs": [
    {
     "name": "stdout",
     "output_type": "stream",
     "text": [
      "Initial objective function value = 0.6931471805599453\n"
     ]
    }
   ],
   "source": [
    "# initialize w\n",
    "d = x_train.shape[1]\n",
    "w = numpy.zeros((d, 1))\n",
    "\n",
    "# evaluate the objective function value at w\n",
    "lam = 1E-6\n",
    "objval0 = objective(w, x_train, y_train, lam)\n",
    "print('Initial objective function value = ' + str(objval0))"
   ]
  },
  {
   "cell_type": "markdown",
   "metadata": {},
   "source": [
    "# 3. Numerical optimization"
   ]
  },
  {
   "cell_type": "markdown",
   "metadata": {},
   "source": [
    "## 3.1. Gradient descent\n"
   ]
  },
  {
   "cell_type": "markdown",
   "metadata": {},
   "source": [
    "The gradient at $w$ is $g = - \\frac{1}{n} \\sum_{i=1}^n \\frac{y_i x_i }{1 + \\exp ( y_i x_i^T w)} + \\lambda w$"
   ]
  },
  {
   "cell_type": "code",
   "execution_count": 7,
   "metadata": {},
   "outputs": [],
   "source": [
    "# Calculate the gradient\n",
    "# Inputs:\n",
    "#     w: d-by-1 matrix\n",
    "#     x: n-by-d matrix\n",
    "#     y: n-by-1 matrix\n",
    "#     lam: scalar, the regularization parameter\n",
    "# Return:\n",
    "#     g: g: d-by-1 matrix, full gradient\n",
    "def gradient(w, x, y, lam):\n",
    "    n, d = x.shape\n",
    "    yx = numpy.multiply(y, x) # n-by-d matrix\n",
    "    yxw = numpy.dot(yx, w) # n-by-1 matrix\n",
    "    vec1 = numpy.exp(yxw) # n-by-1 matrix\n",
    "    vec2 = numpy.divide(yx, 1+vec1) # n-by-d matrix\n",
    "    vec3 = -numpy.mean(vec2, axis=0).reshape(d, 1) # d-by-1 matrix\n",
    "    g = vec3 + lam * w\n",
    "    return g"
   ]
  },
  {
   "cell_type": "code",
   "execution_count": 8,
   "metadata": {},
   "outputs": [],
   "source": [
    "# Gradient descent for solving logistic regression\n",
    "# Inputs:\n",
    "#     x: n-by-d matrix\n",
    "#     y: n-by-1 matrix\n",
    "#     lam: scalar, the regularization parameter\n",
    "#     stepsize: scalar\n",
    "#     max_iter: integer, the maximal iterations\n",
    "#     w: d-by-1 matrix, initialization of w\n",
    "# Return:\n",
    "#     w: d-by-1 matrix, the solution\n",
    "#     objvals: a record of each iteration's objective value\n",
    "def grad_descent(x, y, lam, stepsize, max_iter=100, w=None):\n",
    "    n, d = x.shape\n",
    "    objvals = numpy.zeros(max_iter) # store the objective values\n",
    "    if w is None:\n",
    "        w = numpy.zeros((d, 1)) # zero initialization\n",
    "    \n",
    "    for t in range(max_iter):\n",
    "        objval = objective(w, x, y, lam)\n",
    "        objvals[t] = objval\n",
    "        print('Objective value at t=' + str(t) + ' is ' + str(objval))\n",
    "        g = gradient(w, x, y, lam)\n",
    "        w -= stepsize * g\n",
    "    \n",
    "    return w, objvals"
   ]
  },
  {
   "cell_type": "markdown",
   "metadata": {},
   "source": [
    "Run gradient descent."
   ]
  },
  {
   "cell_type": "code",
   "execution_count": 9,
   "metadata": {},
   "outputs": [
    {
     "name": "stdout",
     "output_type": "stream",
     "text": [
      "Objective value at t=0 is 0.6931471805599453\n",
      "Objective value at t=1 is 0.5905846869299953\n",
      "Objective value at t=2 is 0.54749800330574\n",
      "Objective value at t=3 is 0.5241904707942041\n",
      "Objective value at t=4 is 0.509701198612987\n",
      "Objective value at t=5 is 0.4999611055588487\n",
      "Objective value at t=6 is 0.4930857655187659\n",
      "Objective value at t=7 is 0.48806763481237486\n",
      "Objective value at t=8 is 0.4843138352520546\n",
      "Objective value at t=9 is 0.48145164256225065\n",
      "Objective value at t=10 is 0.4792353327849787\n",
      "Objective value at t=11 is 0.47749702261252425\n",
      "Objective value at t=12 is 0.4761187562114104\n",
      "Objective value at t=13 is 0.4750157484953925\n",
      "Objective value at t=14 is 0.4741258829195633\n",
      "Objective value at t=15 is 0.47340290041677924\n",
      "Objective value at t=16 is 0.4728118572505666\n",
      "Objective value at t=17 is 0.4723260242577267\n",
      "Objective value at t=18 is 0.47192472707994293\n",
      "Objective value at t=19 is 0.4715918150699423\n",
      "Objective value at t=20 is 0.4713145587138521\n",
      "Objective value at t=21 is 0.47108284435052306\n",
      "Objective value at t=22 is 0.4708885784457048\n",
      "Objective value at t=23 is 0.4707252417117888\n",
      "Objective value at t=24 is 0.4705875517929883\n",
      "Objective value at t=25 is 0.47047120556297967\n",
      "Objective value at t=26 is 0.4703726804576502\n",
      "Objective value at t=27 is 0.4702890800383496\n",
      "Objective value at t=28 is 0.47021801301263144\n",
      "Objective value at t=29 is 0.4701574977897373\n",
      "Objective value at t=30 is 0.47010588668630565\n",
      "Objective value at t=31 is 0.47006180537099335\n",
      "Objective value at t=32 is 0.47002410421225155\n",
      "Objective value at t=33 is 0.4699918189861953\n",
      "Objective value at t=34 is 0.46996413899094497\n",
      "Objective value at t=35 is 0.46994038105583\n",
      "Objective value at t=36 is 0.46991996826793114\n",
      "Objective value at t=37 is 0.4699024124928519\n",
      "Objective value at t=38 is 0.46988729996173906\n",
      "Objective value at t=39 is 0.46987427934722725\n",
      "Objective value at t=40 is 0.46986305186804417\n",
      "Objective value at t=41 is 0.4698533630535232\n",
      "Objective value at t=42 is 0.46984499587120554\n",
      "Objective value at t=43 is 0.469837764977573\n",
      "Objective value at t=44 is 0.46983151189712125\n",
      "Objective value at t=45 is 0.4698261009710361\n",
      "Objective value at t=46 is 0.46982141594564736\n",
      "Objective value at t=47 is 0.4698173570941163\n",
      "Objective value at t=48 is 0.4698138387836381\n",
      "Objective value at t=49 is 0.4698107874157238\n",
      "Objective value at t=50 is 0.46980813967957125\n",
      "Objective value at t=51 is 0.4698058410687152\n",
      "Objective value at t=52 is 0.4698038446194895\n",
      "Objective value at t=53 is 0.46980210983669946\n",
      "Objective value at t=54 is 0.4698006017775711\n",
      "Objective value at t=55 is 0.46979929026972134\n",
      "Objective value at t=56 is 0.46979814924279023\n",
      "Objective value at t=57 is 0.46979715615659806\n",
      "Objective value at t=58 is 0.4697962915113897\n",
      "Objective value at t=59 is 0.4697955384279753\n",
      "Objective value at t=60 is 0.46979488228745775\n",
      "Objective value at t=61 is 0.46979431042182074\n",
      "Objective value at t=62 is 0.46979381184796926\n",
      "Objective value at t=63 is 0.46979337703894236\n",
      "Objective value at t=64 is 0.469792997726945\n",
      "Objective value at t=65 is 0.4697926667336543\n",
      "Objective value at t=66 is 0.4697923778239174\n",
      "Objective value at t=67 is 0.46979212557953176\n",
      "Objective value at t=68 is 0.4697919052902805\n",
      "Objective value at t=69 is 0.46979171285980575\n",
      "Objective value at t=70 is 0.46979154472425033\n",
      "Objective value at t=71 is 0.46979139778189444\n",
      "Objective value at t=72 is 0.46979126933226895\n",
      "Objective value at t=73 is 0.4697911570234393\n",
      "Objective value at t=74 is 0.46979105880634225\n",
      "Objective value at t=75 is 0.4697909728952074\n",
      "Objective value at t=76 is 0.4697908977332438\n",
      "Objective value at t=77 is 0.46979083196286886\n",
      "Objective value at t=78 is 0.46979077439987377\n",
      "Objective value at t=79 is 0.46979072401098987\n",
      "Objective value at t=80 is 0.4697906798944045\n",
      "Objective value at t=81 is 0.46979064126282805\n",
      "Objective value at t=82 is 0.4697906074287744\n",
      "Objective value at t=83 is 0.4697905777917603\n",
      "Objective value at t=84 is 0.4697905518271691\n",
      "Objective value at t=85 is 0.46979052907655816\n",
      "Objective value at t=86 is 0.4697905091392221\n",
      "Objective value at t=87 is 0.4697904916648447\n",
      "Objective value at t=88 is 0.4697904763470971\n",
      "Objective value at t=89 is 0.46979046291806\n",
      "Objective value at t=90 is 0.469790451143361\n",
      "Objective value at t=91 is 0.46979044081793403\n",
      "Objective value at t=92 is 0.46979043176232216\n",
      "Objective value at t=93 is 0.4697904238194508\n",
      "Objective value at t=94 is 0.46979041685181155\n",
      "Objective value at t=95 is 0.4697904107390049\n",
      "Objective value at t=96 is 0.46979040537559413\n",
      "Objective value at t=97 is 0.4697904006692309\n",
      "Objective value at t=98 is 0.4697903965390181\n",
      "Objective value at t=99 is 0.46979039291407926\n"
     ]
    }
   ],
   "source": [
    "lam = 1E-6\n",
    "stepsize = 1.0\n",
    "w, objvals_gd = grad_descent(x_train, y_train, lam, stepsize)"
   ]
  },
  {
   "cell_type": "markdown",
   "metadata": {},
   "source": [
    "## 3.2. Stochastic gradient descent (SGD)\n",
    "\n",
    "Define $Q_i (w) = \\log \\Big( 1 + \\exp \\big( - y_i x_i^T w \\big) \\Big) + \\frac{\\lambda}{2} \\| w \\|_2^2 $.\n",
    "\n",
    "The stochastic gradient at $w$ is $g_i = \\frac{\\partial Q_i }{ \\partial w} = -\\frac{y_i x_i }{1 + \\exp ( y_i x_i^T w)} + \\lambda w$."
   ]
  },
  {
   "cell_type": "code",
   "execution_count": 10,
   "metadata": {},
   "outputs": [],
   "source": [
    "# Calculate the objective Q_i and the gradient of Q_i\n",
    "# Inputs:\n",
    "#     w: d-by-1 matrix\n",
    "#     xi: 1-by-d matrix\n",
    "#     yi: scalar\n",
    "#     lam: scalar, the regularization parameter\n",
    "# Return:\n",
    "#     obj: scalar, the objective Q_i\n",
    "#     g: d-by-1 matrix, gradient of Q_i\n",
    "def stochastic_objective_gradient(w, xi, yi, lam):\n",
    "    yx = yi * xi # 1-by-d matrix\n",
    "    yxw = float(numpy.dot(yx, w)) # scalar\n",
    "    \n",
    "    # calculate objective function Q_i\n",
    "    loss = numpy.log(1 + numpy.exp(-yxw)) # scalar\n",
    "    reg = lam / 2 * numpy.sum(w * w) # scalar\n",
    "    obj = loss + reg\n",
    "    \n",
    "    # calculate stochastic gradient\n",
    "    g_loss = -yx.T / (1 + numpy.exp(yxw)) # d-by-1 matrix\n",
    "    g = g_loss + lam * w # d-by-1 matrix\n",
    "    \n",
    "    return obj, g"
   ]
  },
  {
   "cell_type": "code",
   "execution_count": 11,
   "metadata": {},
   "outputs": [],
   "source": [
    "# SGD for solving logistic regression\n",
    "# Inputs:\n",
    "#     x: n-by-d matrix\n",
    "#     y: n-by-1 matrix\n",
    "#     lam: scalar, the regularization parameter\n",
    "#     stepsize: scalar\n",
    "#     max_epoch: integer, the maximal epochs\n",
    "#     w: d-by-1 matrix, initialization of w\n",
    "# Return:\n",
    "#     w: the solution\n",
    "#     objvals: record of each iteration's objective value\n",
    "def sgd(x, y, lam, stepsize, max_epoch=100, w=None):\n",
    "    n, d = x.shape\n",
    "    objvals = numpy.zeros(max_epoch) # store the objective values\n",
    "    if w is None:\n",
    "        w = numpy.zeros((d, 1)) # zero initialization\n",
    "    \n",
    "    for t in range(max_epoch):\n",
    "        # randomly shuffle the samples\n",
    "        rand_indices = numpy.random.permutation(n)\n",
    "        x_rand = x[rand_indices, :]\n",
    "        y_rand = y[rand_indices, :]\n",
    "        \n",
    "        objval = 0 # accumulate the objective values\n",
    "        for i in range(n):\n",
    "            xi = x_rand[i, :] # 1-by-d matrix\n",
    "            yi = float(y_rand[i, :]) # scalar\n",
    "            obj, g = stochastic_objective_gradient(w, xi, yi, lam)\n",
    "            objval += obj\n",
    "            w -= stepsize * g\n",
    "        \n",
    "        stepsize *= 0.9 # decrease step size\n",
    "        objval /= n\n",
    "        objvals[t] = objval\n",
    "        print('Objective value at epoch t=' + str(t) + ' is ' + str(objval))\n",
    "    \n",
    "    return w, objvals"
   ]
  },
  {
   "cell_type": "markdown",
   "metadata": {},
   "source": [
    "Run SGD."
   ]
  },
  {
   "cell_type": "code",
   "execution_count": 12,
   "metadata": {},
   "outputs": [
    {
     "name": "stdout",
     "output_type": "stream",
     "text": [
      "Objective value at epoch t=0 is 0.5294445428642178\n",
      "Objective value at epoch t=1 is 0.5172414824280882\n",
      "Objective value at epoch t=2 is 0.508937829877355\n",
      "Objective value at epoch t=3 is 0.5079995274896241\n",
      "Objective value at epoch t=4 is 0.5102227351352863\n",
      "Objective value at epoch t=5 is 0.5034489864946724\n",
      "Objective value at epoch t=6 is 0.4980949551390693\n",
      "Objective value at epoch t=7 is 0.49643275170754847\n",
      "Objective value at epoch t=8 is 0.49439228974145466\n",
      "Objective value at epoch t=9 is 0.49159550768249244\n",
      "Objective value at epoch t=10 is 0.4884582917300181\n",
      "Objective value at epoch t=11 is 0.4868513506559303\n",
      "Objective value at epoch t=12 is 0.4867051534983561\n",
      "Objective value at epoch t=13 is 0.4823286298742124\n",
      "Objective value at epoch t=14 is 0.48480922252851677\n",
      "Objective value at epoch t=15 is 0.482557209418657\n",
      "Objective value at epoch t=16 is 0.48138393125621076\n",
      "Objective value at epoch t=17 is 0.4807521600254881\n",
      "Objective value at epoch t=18 is 0.4785430543582848\n",
      "Objective value at epoch t=19 is 0.4779189996251425\n",
      "Objective value at epoch t=20 is 0.47760598605976545\n",
      "Objective value at epoch t=21 is 0.47682878568890386\n",
      "Objective value at epoch t=22 is 0.4767413149150711\n",
      "Objective value at epoch t=23 is 0.4755543307647397\n",
      "Objective value at epoch t=24 is 0.4754665751376478\n",
      "Objective value at epoch t=25 is 0.4748003702117636\n",
      "Objective value at epoch t=26 is 0.47429294079394246\n",
      "Objective value at epoch t=27 is 0.473698248841225\n",
      "Objective value at epoch t=28 is 0.47296175616413655\n",
      "Objective value at epoch t=29 is 0.4730421794812999\n",
      "Objective value at epoch t=30 is 0.47296059559805553\n",
      "Objective value at epoch t=31 is 0.47258259950100656\n",
      "Objective value at epoch t=32 is 0.47192392044261\n",
      "Objective value at epoch t=33 is 0.47204666380273136\n",
      "Objective value at epoch t=34 is 0.47176104510272987\n",
      "Objective value at epoch t=35 is 0.4715464809485847\n",
      "Objective value at epoch t=36 is 0.47142176221571086\n",
      "Objective value at epoch t=37 is 0.4712571490241924\n",
      "Objective value at epoch t=38 is 0.4711420921351201\n",
      "Objective value at epoch t=39 is 0.470969019417793\n",
      "Objective value at epoch t=40 is 0.4708917609193537\n",
      "Objective value at epoch t=41 is 0.4707812207685599\n",
      "Objective value at epoch t=42 is 0.4706823108700132\n",
      "Objective value at epoch t=43 is 0.47058839428003685\n",
      "Objective value at epoch t=44 is 0.47048173823087946\n",
      "Objective value at epoch t=45 is 0.4704322606202626\n",
      "Objective value at epoch t=46 is 0.4703711695039061\n",
      "Objective value at epoch t=47 is 0.47030879991240565\n",
      "Objective value at epoch t=48 is 0.4702622266833333\n",
      "Objective value at epoch t=49 is 0.4702162494903675\n",
      "Objective value at epoch t=50 is 0.4701748283299505\n",
      "Objective value at epoch t=51 is 0.47013730457353137\n",
      "Objective value at epoch t=52 is 0.4701040502690219\n",
      "Objective value at epoch t=53 is 0.470073259163275\n",
      "Objective value at epoch t=54 is 0.47004386310494733\n",
      "Objective value at epoch t=55 is 0.4700164513009656\n",
      "Objective value at epoch t=56 is 0.4699955044622439\n",
      "Objective value at epoch t=57 is 0.469976008501703\n",
      "Objective value at epoch t=58 is 0.46995758873693766\n",
      "Objective value at epoch t=59 is 0.46994091567012575\n",
      "Objective value at epoch t=60 is 0.46992594399976556\n",
      "Objective value at epoch t=61 is 0.46991256243341717\n",
      "Objective value at epoch t=62 is 0.46990037096120113\n",
      "Objective value at epoch t=63 is 0.46988930000453066\n",
      "Objective value at epoch t=64 is 0.46987943334538035\n",
      "Objective value at epoch t=65 is 0.46987060828270993\n",
      "Objective value at epoch t=66 is 0.4698626616614903\n",
      "Objective value at epoch t=67 is 0.46985539437609203\n",
      "Objective value at epoch t=68 is 0.4698489938626501\n",
      "Objective value at epoch t=69 is 0.46984311092770537\n",
      "Objective value at epoch t=70 is 0.4698378836290778\n",
      "Objective value at epoch t=71 is 0.46983315085561195\n",
      "Objective value at epoch t=72 is 0.4698289040919755\n",
      "Objective value at epoch t=73 is 0.46982508294132447\n",
      "Objective value at epoch t=74 is 0.46982162791695625\n",
      "Objective value at epoch t=75 is 0.4698185289589604\n",
      "Objective value at epoch t=76 is 0.4698157416578133\n",
      "Objective value at epoch t=77 is 0.4698132380571501\n",
      "Objective value at epoch t=78 is 0.4698109748708356\n",
      "Objective value at epoch t=79 is 0.46980893607339685\n",
      "Objective value at epoch t=80 is 0.4698071097096121\n",
      "Objective value at epoch t=81 is 0.4698054599315342\n",
      "Objective value at epoch t=82 is 0.46980397565643733\n",
      "Objective value at epoch t=83 is 0.46980263821005075\n",
      "Objective value at epoch t=84 is 0.4698014359024677\n",
      "Objective value at epoch t=85 is 0.46980035653774166\n",
      "Objective value at epoch t=86 is 0.4697993834128824\n",
      "Objective value at epoch t=87 is 0.4697985059993752\n",
      "Objective value at epoch t=88 is 0.46979771802805503\n",
      "Objective value at epoch t=89 is 0.46979700773389804\n",
      "Objective value at epoch t=90 is 0.4697963700824282\n",
      "Objective value at epoch t=91 is 0.4697957950184873\n",
      "Objective value at epoch t=92 is 0.46979527741025545\n",
      "Objective value at epoch t=93 is 0.46979481168928683\n",
      "Objective value at epoch t=94 is 0.4697943919917168\n",
      "Objective value at epoch t=95 is 0.4697940148973192\n",
      "Objective value at epoch t=96 is 0.46979367513273906\n",
      "Objective value at epoch t=97 is 0.46979336964557916\n",
      "Objective value at epoch t=98 is 0.46979309458414076\n",
      "Objective value at epoch t=99 is 0.4697928469958665\n"
     ]
    }
   ],
   "source": [
    "lam = 1E-6\n",
    "stepsize = 0.1\n",
    "w, objvals_sgd = sgd(x_train, y_train, lam, stepsize)"
   ]
  },
  {
   "cell_type": "markdown",
   "metadata": {},
   "source": [
    "# 4. Compare GD with SGD\n",
    "\n",
    "Plot objective function values against epochs."
   ]
  },
  {
   "cell_type": "code",
   "execution_count": 13,
   "metadata": {},
   "outputs": [
    {
     "data": {
      "image/png": "[encoded data removed]",
      "text/plain": [
       "<Figure size 600x400 with 1 Axes>"
      ]
     },
     "metadata": {},
     "output_type": "display_data"
    }
   ],
   "source": [
    "import matplotlib.pyplot as plt\n",
    "%matplotlib inline\n",
    "\n",
    "fig = plt.figure(figsize=(6, 4))\n",
    "\n",
    "epochs_gd = range(len(objvals_gd))\n",
    "epochs_sgd = range(len(objvals_sgd))\n",
    "\n",
    "line0, = plt.plot(epochs_gd, objvals_gd, '--b', linewidth=4)\n",
    "line1, = plt.plot(epochs_sgd, objvals_sgd, '-r', linewidth=2)\n",
    "plt.xlabel('Epochs', fontsize=20)\n",
    "plt.ylabel('Objective Value', fontsize=20)\n",
    "plt.xticks(fontsize=16)\n",
    "plt.yticks(fontsize=16)\n",
    "plt.legend([line0, line1], ['GD', 'SGD'], fontsize=20)\n",
    "plt.tight_layout()\n",
    "plt.show()\n",
    "fig.savefig('compare_gd_sgd.pdf', format='pdf', dpi=1200)"
   ]
  },
  {
   "cell_type": "markdown",
   "metadata": {},
   "source": [
    "# 5. Prediction"
   ]
  },
  {
   "cell_type": "code",
   "execution_count": 14,
   "metadata": {},
   "outputs": [],
   "source": [
    "# Predict class label\n",
    "# Inputs:\n",
    "#     w: d-by-1 matrix\n",
    "#     X: m-by-d matrix\n",
    "# Return:\n",
    "#     f: m-by-1 matrix, the predictions\n",
    "def predict(w, X):\n",
    "    xw = numpy.dot(X, w)\n",
    "    f = numpy.sign(xw)\n",
    "    return f"
   ]
  },
  {
   "cell_type": "code",
   "execution_count": 15,
   "metadata": {},
   "outputs": [
    {
     "name": "stdout",
     "output_type": "stream",
     "text": [
      "Training classification error is 0.2203125\n"
     ]
    }
   ],
   "source": [
    "# evaluate training error\n",
    "f_train = predict(w, x_train)\n",
    "diff = numpy.abs(f_train - y_train) / 2\n",
    "error_train = numpy.mean(diff)\n",
    "print('Training classification error is ' + str(error_train))"
   ]
  },
  {
   "cell_type": "code",
   "execution_count": 16,
   "metadata": {},
   "outputs": [
    {
     "name": "stdout",
     "output_type": "stream",
     "text": [
      "Test classification error is 0.2109375\n"
     ]
    }
   ],
   "source": [
    "# evaluate test error\n",
    "f_test = predict(w, x_test)\n",
    "diff = numpy.abs(f_test - y_test) / 2\n",
    "error_test = numpy.mean(diff)\n",
    "print('Test classification error is ' + str(error_test))"
   ]
  },
  {
   "cell_type": "markdown",
   "metadata": {},
   "source": [
    "# 6. Mini-batch SGD (fill the code)\n",
    "\n"
   ]
  },
  {
   "cell_type": "markdown",
   "metadata": {},
   "source": [
    "## 6.1. Compute the objective $Q_I$ and its gradient using a batch of samples\n",
    "\n",
    "Define $Q_I (w) = \\frac{1}{b} \\sum_{i \\in I} \\log \\Big( 1 + \\exp \\big( - y_i x_i^T w \\big) \\Big) + \\frac{\\lambda}{2} \\| w \\|_2^2 $, where $I$ is a set containing $b$ indices randomly drawn from $\\{ 1, \\cdots , n \\}$ without replacement.\n",
    "\n",
    "The stochastic gradient at $w$ is $g_I = \\frac{\\partial Q_I }{ \\partial w} = \\frac{1}{b} \\sum_{i \\in I} \\frac{- y_i x_i }{1 + \\exp ( y_i x_i^T w)} + \\lambda w$."
   ]
  },
  {
   "cell_type": "code",
   "execution_count": 23,
   "metadata": {},
   "outputs": [],
   "source": [
    "import numpy as np\n",
    "# Calculate the objective Q_I and the gradient of Q_I\n",
    "# Inputs:\n",
    "#     w: d-by-1 matrix\n",
    "#     xi: b-by-d matrix\n",
    "#     yi: b-by-1 matrix\n",
    "#     lam: scalar, the regularization parameter\n",
    "#     b: integer, the batch size\n",
    "# Return:\n",
    "#     obj: scalar, the objective Q_i\n",
    "#     g: d-by-1 matrix, gradient of Q_i\n",
    "\n",
    "\n",
    "def mb_stochastic_objective_gradient(w, xi, yi, lam, b):\n",
    "    yx = np.multiply(yi,xi)  # Flatten yi to a 1D array for broadcasting\n",
    "    \n",
    "    \n",
    "    # Directly use broadcasting for element-wise multiplication\n",
    "    #yx = yi * xi  # yi[:, None] makes yi two-dimensional\n",
    "\n",
    "    yxw = np.dot(yx, w)\n",
    "    vec1 = np.exp(-yxw)\n",
    "    vec2 = np.divide(yx, 1 + np.exp(yxw))\n",
    "    obj = np.mean(np.log(1 + vec1)) + (lam / 2) * np.sum(w. T * w)\n",
    "\n",
    "    g_loss = -np.mean(vec2, axis=0).reshape(-1, 1)\n",
    "    g = g_loss + lam * w\n",
    "\n",
    "    return obj, g\n",
    "\n",
    "\n"
   ]
  },
  {
   "cell_type": "markdown",
   "metadata": {},
   "source": [
    "## 6.2. Implement mini-batch SGD\n",
    "\n",
    "Hints:\n",
    "1. In every epoch, randomly permute the $n$ samples (just like SGD).\n",
    "2. Each epoch has $\\frac{n}{b}$ iterations. In every iteration, use $b$ samples, and compute the gradient and objective using the ``mb_stochastic_objective_gradient`` function. In the next iteration, use the next $b$ samples, and so on.\n"
   ]
  },
  {
   "cell_type": "code",
   "execution_count": 24,
   "metadata": {},
   "outputs": [],
   "source": [
    "# Mini-Batch SGD for solving logistic regression\n",
    "# Inputs:\n",
    "#     x: n-by-d matrix\n",
    "#     y: n-by-1 matrix\n",
    "#     lam: scalar, the regularization parameter\n",
    "#     b: integer, the batch size\n",
    "#     stepsize: scalar\n",
    "#     max_epoch: integer, the maximal epochs\n",
    "#     w: d-by-1 matrix, initialization of w\n",
    "# Return:\n",
    "#     w: the solution\n",
    "#     objvals: record of each iteration's objective value\n",
    "def mb_sgd(x, y, lam, b, stepsize, max_epoch=100, w=None):\n",
    "    n, d = x.shape\n",
    "    objvals = np.zeros(max_epoch)\n",
    "    if w is None:\n",
    "        w = np.zeros((d, 1))\n",
    "    \n",
    "    for epoch in range(max_epoch):\n",
    "        rand_indices = np.random.permutation(n)\n",
    "        x_rand = x[rand_indices, :]\n",
    "        y_rand = y[rand_indices, :]\n",
    "        \n",
    "        objval_epoch = 0  # Objective for this epoch\n",
    "        for i in range(0, n, b):  # Iterate over batches\n",
    "            end_index = min(i + b, n)\n",
    "            xi_batch = x_rand[i:end_index, :]\n",
    "            yi_batch = y_rand[i:end_index, :]\n",
    "            \n",
    "            \n",
    "            # Compute objective and gradient for the batch\n",
    "            actual_batch_size = end_index - i  # This may be less than b for the last batch\n",
    "            obj_batch, g_batch = mb_stochastic_objective_gradient(w, xi_batch, yi_batch, lam, actual_batch_size)\n",
    "            \n",
    "            # Update weights\n",
    "            w -= stepsize * g_batch\n",
    "            \n",
    "            # Aggregate the objective value\n",
    "            objval_epoch += obj_batch * actual_batch_size\n",
    "        \n",
    "        # Average the objective value over all samples\n",
    "        objvals[epoch] = objval_epoch / n\n",
    "        \n",
    "        # Optional: Decrease stepsize\n",
    "        stepsize *= 0.9\n",
    "        \n",
    "        print('Objective value at epoch {} is {}'.format(epoch, objvals[epoch]))\n",
    "    \n",
    "    return w, objvals\n"
   ]
  },
  {
   "cell_type": "code",
   "execution_count": null,
   "metadata": {},
   "outputs": [],
   "source": [
    "\n"
   ]
  },
  {
   "cell_type": "markdown",
   "metadata": {},
   "source": [
    "## 6.3. Run MB-SGD"
   ]
  },
  {
   "cell_type": "code",
   "execution_count": 30,
   "metadata": {},
   "outputs": [
    {
     "name": "stdout",
     "output_type": "stream",
     "text": [
      "Objective value at epoch 0 is 0.5446098122497252\n",
      "Objective value at epoch 1 is 0.4849043900929533\n",
      "Objective value at epoch 2 is 0.4790981868091735\n",
      "Objective value at epoch 3 is 0.4763854732759193\n",
      "Objective value at epoch 4 is 0.4752691081727617\n",
      "Objective value at epoch 5 is 0.47501210956693357\n",
      "Objective value at epoch 6 is 0.4741533808947539\n",
      "Objective value at epoch 7 is 0.473672674689359\n",
      "Objective value at epoch 8 is 0.4731885826723068\n",
      "Objective value at epoch 9 is 0.4727671199836019\n",
      "Objective value at epoch 10 is 0.47295956412237733\n",
      "Objective value at epoch 11 is 0.4725752867980654\n",
      "Objective value at epoch 12 is 0.47232422368033566\n",
      "Objective value at epoch 13 is 0.4720221157893422\n",
      "Objective value at epoch 14 is 0.4717834173681463\n",
      "Objective value at epoch 15 is 0.4717195878291471\n",
      "Objective value at epoch 16 is 0.47126643893812137\n",
      "Objective value at epoch 17 is 0.4713205072630494\n",
      "Objective value at epoch 18 is 0.4711146297929756\n",
      "Objective value at epoch 19 is 0.4711804246637351\n",
      "Objective value at epoch 20 is 0.47091076384129893\n",
      "Objective value at epoch 21 is 0.47078565201599576\n",
      "Objective value at epoch 22 is 0.47073053774335005\n",
      "Objective value at epoch 23 is 0.4705834196811445\n",
      "Objective value at epoch 24 is 0.47060139929015515\n",
      "Objective value at epoch 25 is 0.47043978577742074\n",
      "Objective value at epoch 26 is 0.4703765355438329\n",
      "Objective value at epoch 27 is 0.47029266425616567\n",
      "Objective value at epoch 28 is 0.47026794611042033\n",
      "Objective value at epoch 29 is 0.4702083244160331\n",
      "Objective value at epoch 30 is 0.47013295325431603\n",
      "Objective value at epoch 31 is 0.4701358807072228\n",
      "Objective value at epoch 32 is 0.4701312706946659\n",
      "Objective value at epoch 33 is 0.4700835017649549\n",
      "Objective value at epoch 34 is 0.4700397708118135\n",
      "Objective value at epoch 35 is 0.4700268584362132\n",
      "Objective value at epoch 36 is 0.4700081629193352\n",
      "Objective value at epoch 37 is 0.469965250306957\n",
      "Objective value at epoch 38 is 0.4699655896166246\n",
      "Objective value at epoch 39 is 0.46992690286986705\n",
      "Objective value at epoch 40 is 0.4699383381722435\n",
      "Objective value at epoch 41 is 0.4699083568112655\n",
      "Objective value at epoch 42 is 0.4698952705913311\n",
      "Objective value at epoch 43 is 0.4698920016244544\n",
      "Objective value at epoch 44 is 0.46987518498277997\n",
      "Objective value at epoch 45 is 0.4698696867067775\n",
      "Objective value at epoch 46 is 0.46986615362581363\n",
      "Objective value at epoch 47 is 0.4698581420737787\n",
      "Objective value at epoch 48 is 0.46985778269100853\n",
      "Objective value at epoch 49 is 0.46984365155734203\n",
      "Objective value at epoch 50 is 0.4698368852648601\n",
      "Objective value at epoch 51 is 0.4698370745628517\n",
      "Objective value at epoch 52 is 0.46983359892115406\n",
      "Objective value at epoch 53 is 0.4698298567835309\n",
      "Objective value at epoch 54 is 0.4698216310775828\n",
      "Objective value at epoch 55 is 0.46981799864738144\n",
      "Objective value at epoch 56 is 0.4698166208309632\n",
      "Objective value at epoch 57 is 0.46981217991695823\n",
      "Objective value at epoch 58 is 0.46981222024108804\n",
      "Objective value at epoch 59 is 0.46981101885117316\n",
      "Objective value at epoch 60 is 0.46980477021297534\n",
      "Objective value at epoch 61 is 0.4698048792614177\n",
      "Objective value at epoch 62 is 0.46980456699143486\n",
      "Objective value at epoch 63 is 0.469802506704148\n",
      "Objective value at epoch 64 is 0.4698019639496115\n",
      "Objective value at epoch 65 is 0.4697996839123289\n",
      "Objective value at epoch 66 is 0.4697995358496924\n",
      "Objective value at epoch 67 is 0.469798676714814\n",
      "Objective value at epoch 68 is 0.4697982784060514\n",
      "Objective value at epoch 69 is 0.46979790856905285\n",
      "Objective value at epoch 70 is 0.46979663836614627\n",
      "Objective value at epoch 71 is 0.46979593243949236\n",
      "Objective value at epoch 72 is 0.4697956846744475\n",
      "Objective value at epoch 73 is 0.4697949110964587\n",
      "Objective value at epoch 74 is 0.46979462474907974\n",
      "Objective value at epoch 75 is 0.4697939196163518\n",
      "Objective value at epoch 76 is 0.4697939279177101\n",
      "Objective value at epoch 77 is 0.4697934715592897\n",
      "Objective value at epoch 78 is 0.4697934660373232\n",
      "Objective value at epoch 79 is 0.4697928589586703\n",
      "Objective value at epoch 80 is 0.469792747571763\n",
      "Objective value at epoch 81 is 0.46979270448666577\n",
      "Objective value at epoch 82 is 0.46979238371092713\n",
      "Objective value at epoch 83 is 0.46979232082546646\n",
      "Objective value at epoch 84 is 0.46979204640168515\n",
      "Objective value at epoch 85 is 0.46979197770416903\n",
      "Objective value at epoch 86 is 0.46979171737123177\n",
      "Objective value at epoch 87 is 0.4697916897748904\n",
      "Objective value at epoch 88 is 0.4697916107460447\n",
      "Objective value at epoch 89 is 0.4697915435976173\n",
      "Objective value at epoch 90 is 0.4697914984259383\n",
      "Objective value at epoch 91 is 0.4697913176503749\n",
      "Objective value at epoch 92 is 0.4697912959200009\n",
      "Objective value at epoch 93 is 0.4697912354006874\n",
      "Objective value at epoch 94 is 0.46979123480046125\n",
      "Objective value at epoch 95 is 0.46979113985402793\n",
      "Objective value at epoch 96 is 0.469791088179455\n",
      "Objective value at epoch 97 is 0.4697911066369433\n",
      "Objective value at epoch 98 is 0.46979103572047665\n",
      "Objective value at epoch 99 is 0.46979100883696584\n"
     ]
    }
   ],
   "source": [
    "# MB-SGD with batch size b=8\n",
    "lam = 1E-6 # do not change\n",
    "b = 8 # do not change\n",
    "stepsize = 0.1 # you must tune this parameter Previous attempts: .1,\n",
    "\n",
    "w, objvals_mbsgd8 = mb_sgd(x_train, y_train, lam, b, stepsize)"
   ]
  },
  {
   "cell_type": "code",
   "execution_count": 31,
   "metadata": {},
   "outputs": [
    {
     "name": "stdout",
     "output_type": "stream",
     "text": [
      "Objective value at epoch 0 is 0.5492928072670189\n",
      "Objective value at epoch 1 is 0.48491191839943537\n",
      "Objective value at epoch 2 is 0.4773288106455788\n",
      "Objective value at epoch 3 is 0.47657247753753673\n",
      "Objective value at epoch 4 is 0.4746375991766195\n",
      "Objective value at epoch 5 is 0.4749980152623513\n",
      "Objective value at epoch 6 is 0.4751605896769588\n",
      "Objective value at epoch 7 is 0.4735911627722107\n",
      "Objective value at epoch 8 is 0.4740396526871581\n",
      "Objective value at epoch 9 is 0.47390019231055386\n",
      "Objective value at epoch 10 is 0.47263038890819714\n",
      "Objective value at epoch 11 is 0.4723499715674021\n",
      "Objective value at epoch 12 is 0.4729509859624101\n",
      "Objective value at epoch 13 is 0.47144851950417677\n",
      "Objective value at epoch 14 is 0.47171754293836904\n",
      "Objective value at epoch 15 is 0.47213307243054164\n",
      "Objective value at epoch 16 is 0.4716626278098068\n",
      "Objective value at epoch 17 is 0.4710004344913883\n",
      "Objective value at epoch 18 is 0.471369143527329\n",
      "Objective value at epoch 19 is 0.47077602062074886\n",
      "Objective value at epoch 20 is 0.47058083207730733\n",
      "Objective value at epoch 21 is 0.4707398106168257\n",
      "Objective value at epoch 22 is 0.47055450605703364\n",
      "Objective value at epoch 23 is 0.4705093167801736\n",
      "Objective value at epoch 24 is 0.4706347593684696\n",
      "Objective value at epoch 25 is 0.4703568402447159\n",
      "Objective value at epoch 26 is 0.4704109993560094\n",
      "Objective value at epoch 27 is 0.4702190290806625\n",
      "Objective value at epoch 28 is 0.47025154505695876\n",
      "Objective value at epoch 29 is 0.47036024936647874\n",
      "Objective value at epoch 30 is 0.47031597236755224\n",
      "Objective value at epoch 31 is 0.47017742952394526\n",
      "Objective value at epoch 32 is 0.47001418850278237\n",
      "Objective value at epoch 33 is 0.4700183571653704\n",
      "Objective value at epoch 34 is 0.47003502739905423\n",
      "Objective value at epoch 35 is 0.469944931119595\n",
      "Objective value at epoch 36 is 0.46999420010247983\n",
      "Objective value at epoch 37 is 0.4700346669195046\n",
      "Objective value at epoch 38 is 0.46994313454245573\n",
      "Objective value at epoch 39 is 0.4699205372838994\n",
      "Objective value at epoch 40 is 0.46990793395093694\n",
      "Objective value at epoch 41 is 0.4699106889839876\n",
      "Objective value at epoch 42 is 0.46987820127309154\n",
      "Objective value at epoch 43 is 0.4698648430759828\n",
      "Objective value at epoch 44 is 0.469878453620847\n",
      "Objective value at epoch 45 is 0.4698632622254844\n",
      "Objective value at epoch 46 is 0.4698401047336258\n",
      "Objective value at epoch 47 is 0.4698498515152504\n",
      "Objective value at epoch 48 is 0.4698542953876432\n",
      "Objective value at epoch 49 is 0.46983598612242733\n",
      "Objective value at epoch 50 is 0.4698246040052189\n",
      "Objective value at epoch 51 is 0.4698385083298156\n",
      "Objective value at epoch 52 is 0.46982823895103054\n",
      "Objective value at epoch 53 is 0.46982946092107375\n",
      "Objective value at epoch 54 is 0.46981181667460153\n",
      "Objective value at epoch 55 is 0.46981351781320113\n",
      "Objective value at epoch 56 is 0.46981753875129667\n",
      "Objective value at epoch 57 is 0.4698131358034182\n",
      "Objective value at epoch 58 is 0.4698038502909174\n",
      "Objective value at epoch 59 is 0.4698043673206273\n",
      "Objective value at epoch 60 is 0.4698062553121519\n",
      "Objective value at epoch 61 is 0.4698070349778938\n",
      "Objective value at epoch 62 is 0.46980236113423934\n",
      "Objective value at epoch 63 is 0.4698035784344169\n",
      "Objective value at epoch 64 is 0.46979912522947986\n",
      "Objective value at epoch 65 is 0.4697981727337542\n",
      "Objective value at epoch 66 is 0.46979514802406896\n",
      "Objective value at epoch 67 is 0.4697973705710005\n",
      "Objective value at epoch 68 is 0.4697995040797232\n",
      "Objective value at epoch 69 is 0.46979718173248397\n",
      "Objective value at epoch 70 is 0.46979446002435976\n",
      "Objective value at epoch 71 is 0.4697953454828692\n",
      "Objective value at epoch 72 is 0.46979497861198977\n",
      "Objective value at epoch 73 is 0.4697940186423592\n",
      "Objective value at epoch 74 is 0.46979418543066515\n",
      "Objective value at epoch 75 is 0.4697940347371488\n",
      "Objective value at epoch 76 is 0.4697926785574431\n",
      "Objective value at epoch 77 is 0.46979269666564305\n",
      "Objective value at epoch 78 is 0.46979304345808776\n",
      "Objective value at epoch 79 is 0.46979244658194697\n",
      "Objective value at epoch 80 is 0.4697922802361346\n",
      "Objective value at epoch 81 is 0.46979222453660413\n",
      "Objective value at epoch 82 is 0.4697920864020575\n",
      "Objective value at epoch 83 is 0.46979180541003024\n",
      "Objective value at epoch 84 is 0.46979189389723686\n",
      "Objective value at epoch 85 is 0.4697915714394685\n",
      "Objective value at epoch 86 is 0.4697913718642992\n",
      "Objective value at epoch 87 is 0.469791458098061\n",
      "Objective value at epoch 88 is 0.4697912848442263\n",
      "Objective value at epoch 89 is 0.46979112658963273\n",
      "Objective value at epoch 90 is 0.4697911068212034\n",
      "Objective value at epoch 91 is 0.4697912384795787\n",
      "Objective value at epoch 92 is 0.469790815163227\n",
      "Objective value at epoch 93 is 0.46979101239112964\n",
      "Objective value at epoch 94 is 0.4697909141900249\n",
      "Objective value at epoch 95 is 0.46979093256886645\n",
      "Objective value at epoch 96 is 0.4697908650687446\n",
      "Objective value at epoch 97 is 0.46979082203010264\n",
      "Objective value at epoch 98 is 0.469790846732279\n",
      "Objective value at epoch 99 is 0.469790665925125\n"
     ]
    }
   ],
   "source": [
    "# MB-SGD with batch size b=64\n",
    "lam = 1E-6 # do not change\n",
    "b = 64 # do not change\n",
    "stepsize = 0.8 # you must tune this parameter\n",
    "\n",
    "w, objvals_mbsgd64 = mb_sgd(x_train, y_train, lam, b, stepsize)"
   ]
  },
  {
   "cell_type": "markdown",
   "metadata": {},
   "source": [
    "# 7. Plot and compare GD, SGD, and MB-SGD"
   ]
  },
  {
   "cell_type": "markdown",
   "metadata": {},
   "source": [
    "You are required to compare the following algorithms:\n",
    "\n",
    "- Gradient descent (GD)\n",
    "\n",
    "- SGD\n",
    "\n",
    "- MB-SGD with b=8\n",
    "\n",
    "- MB-SGD with b=64\n",
    "\n",
    "Follow the code in Section 4 to plot ```objective function value``` against ```epochs```. There should be four curves in the plot; each curve corresponds to one algorithm."
   ]
  },
  {
   "cell_type": "markdown",
   "metadata": {},
   "source": [
    "Hint: Logistic regression with $\\ell_2$-norm regularization is a strongly convex optimization problem. All the algorithms will converge to the same solution. **In the end, the ``objective function value`` of the 4 algorithms will be the same. If not the same, your implementation must be wrong. Do NOT submit wrong code and wrong result!**"
   ]
  },
  {
   "cell_type": "code",
   "execution_count": 33,
   "metadata": {},
   "outputs": [
    {
     "data": {
      "image/png": "[encoded data removed]",
      "text/plain": [
       "<Figure size 1000x600 with 1 Axes>"
      ]
     },
     "metadata": {},
     "output_type": "display_data"
    }
   ],
   "source": [
    "# plot the 4 curves:\n",
    "import matplotlib.pyplot as plt\n",
    "%matplotlib inline\n",
    "\n",
    "# Plot settings\n",
    "plt.figure(figsize=(10, 6))\n",
    "\n",
    "# Assuming objvals_gd, objvals_sgd, objvals_mbsgd8, objvals_mbsgd64 are defined\n",
    "plt.plot(objvals_gd, label='GD', linewidth=2)\n",
    "plt.plot(objvals_sgd, label='SGD', linewidth=2)\n",
    "plt.plot(objvals_mbsgd8, label='MB-SGD b=8', linewidth=4)\n",
    "plt.plot(objvals_mbsgd64, label='MB-SGD b=64', linewidth=2)\n",
    "\n",
    "# Labeling the plot\n",
    "plt.xlabel('Epochs')\n",
    "plt.ylabel('Objective Function Value')\n",
    "plt.title('Comparison of GD, SGD, and MB-SGD Algorithms')\n",
    "plt.legend()\n",
    "\n",
    "# Display the plot\n",
    "plt.show()\n"
   ]
  },
  {
   "cell_type": "markdown",
   "metadata": {},
   "source": []
  }
 ],
 "metadata": {
  "kernelspec": {
   "display_name": "Python 3 (ipykernel)",
   "language": "python",
   "name": "python3"
  },
  "language_info": {
   "codemirror_mode": {
    "name": "ipython",
    "version": 3
   },
   "file_extension": ".py",
   "mimetype": "text/x-python",
   "name": "python",
   "nbconvert_exporter": "python",
   "pygments_lexer": "ipython3",
   "version": "3.11.4"
  }
 },
 "nbformat": 4,
 "nbformat_minor": 2
}
